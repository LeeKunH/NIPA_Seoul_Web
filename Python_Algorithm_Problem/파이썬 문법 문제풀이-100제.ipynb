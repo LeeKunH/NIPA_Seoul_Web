{
 "cells": [
  {
   "cell_type": "markdown",
   "id": "2faa720f",
   "metadata": {},
   "source": [
    "# 100번 문제"
   ]
  },
  {
   "cell_type": "code",
   "execution_count": 1,
   "id": "678db620",
   "metadata": {},
   "outputs": [
    {
     "name": "stdout",
     "output_type": "stream",
     "text": [
      "2023-09-25 10:11:27.589093\n"
     ]
    }
   ],
   "source": [
    "import datetime\n",
    "\n",
    "print(datetime.datetime.now())"
   ]
  },
  {
   "cell_type": "markdown",
   "id": "ca3e5b28",
   "metadata": {},
   "source": [
    "# 99번 문제"
   ]
  },
  {
   "cell_type": "code",
   "execution_count": 3,
   "id": "5a6eabf8",
   "metadata": {},
   "outputs": [
    {
     "name": "stdout",
     "output_type": "stream",
     "text": [
      "{1, 34, 35, 18, 24}\n",
      "[1, 34, 35, 18, 24]\n",
      "[1, 18, 24, 34, 35]\n",
      "<파이썬으로 만든 이건휘 로또 번호 생성기>\n",
      "당첨번호 1 18 24 34 + 보너스 35\n"
     ]
    }
   ],
   "source": [
    "# 1번 풀이 =>\n",
    "import random\n",
    "\n",
    "num_set = set()\n",
    "# 로또 번호 개수\n",
    "n = 7\n",
    "\n",
    "# 랜덤하게 중복 x 7개 숫자 선택\n",
    "for i in range(n) :\n",
    "    num_set.add(random.randint(1,45))\n",
    "\n",
    "\n",
    "print(num_set) # {36, 43, 11, 45, 26, 29, 30}\n",
    "num_list = list(num_set)\n",
    "print(num_list) # [36, 43, 11, 45, 26, 29, 30]\n",
    "num_list.sort()\n",
    "print(num_list) # [11, 26, 29, 30, 36, 43, 45]\n",
    "\n",
    "# 출력 문자열 포맷팅\n",
    "print(\"<파이썬으로 만든 이건휘 로또 번호 생성기>\")\n",
    "print(\"당첨번호 \",end=\"\")\n",
    "for num in num_list :\n",
    "    if (num == num_list[-1]) :\n",
    "        break\n",
    "    print(num, end=' ')\n",
    "\n",
    "print(f\"+ 보너스 {num_list[-1]}\")"
   ]
  },
  {
   "cell_type": "code",
   "execution_count": 4,
   "id": "4918077d",
   "metadata": {},
   "outputs": [
    {
     "name": "stdout",
     "output_type": "stream",
     "text": [
      "1번 로또번호 : 39\n",
      "2번 로또번호 : 28\n",
      "3번 로또번호 : 17\n",
      "4번 로또번호 : 36\n",
      "5번 로또번호 : 44\n",
      "6번 로또번호 : 1\n",
      "7번 로또번호 : 12\n",
      "<파이썬으로 만든 이건휘 로또 번호 생성기>\n",
      "당첨번호 1 12 17 28 36 39 + 보너스 44\n"
     ]
    }
   ],
   "source": [
    "# 2번 풀이\n",
    "# 처음풀이 내 풀이 =>\n",
    "import random\n",
    "\n",
    "lotto_list = []\n",
    "lotto_num = 1\n",
    "while (len(lotto_list) < 7 ) :\n",
    "    # 반복 시행 시 매번 새로운 수 출력\n",
    "    ran_num = random.randint(1,45)\n",
    "\n",
    "    # 값이 없으면 추가한다\n",
    "    if not ( ran_num in lotto_list ) :\n",
    "        lotto_list.append(ran_num)\n",
    "        print(f'{lotto_num}번 로또번호 : {ran_num}')\n",
    "        lotto_num += 1\n",
    "\n",
    "# 정렬\n",
    "lotto_list.sort()\n",
    "# 출력 문자열 포맷팅\n",
    "print(\"<파이썬으로 만든 이건휘 로또 번호 생성기>\")\n",
    "print(\"당첨번호 \",end=\"\")\n",
    "for num in lotto_list[0:6] :\n",
    "    print(num, end=' ')\n",
    "\n",
    "print(f\"+ 보너스 {lotto_list[6]}\")"
   ]
  },
  {
   "cell_type": "markdown",
   "id": "f177a757",
   "metadata": {},
   "source": [
    "# 98번 문제"
   ]
  },
  {
   "cell_type": "code",
   "execution_count": 6,
   "id": "504ea6df",
   "metadata": {},
   "outputs": [
    {
     "name": "stdout",
     "output_type": "stream",
     "text": [
      "감사결과\n",
      "키: : 170cm 몸무게 : 73kg\n",
      "비만 입니다. (BMI지수 25.26%)\n",
      "감사결과\n",
      "키 : 170cm 몸무게 : 73kg\n",
      "비만 입니다. (BIM지수 25.26%)\n"
     ]
    }
   ],
   "source": [
    "def BMItest(hight, weight) :\n",
    "    # 매개변수로 들어온 인수로 BMI 수치 계산\n",
    "    BMI = weight/((hight/100)**2)\n",
    "    if (BMI <= 18.5) :\n",
    "        result = '저체중'\n",
    "    elif (18.5 < BMI <= 22.9) :\n",
    "        result = '정상'\n",
    "    elif (23 < BMI <= 24.9) :\n",
    "        result = '과체중'\n",
    "    elif (25<= BMI) :\n",
    "        result = '비만'\n",
    "\n",
    "     # 출력 포맷1\n",
    "    print(f\"감사결과\\n키: : {hight}cm 몸무게 : {weight}kg\\n{result} 입니다. (BMI지수 {round(BMI,2)}%)\")\n",
    "\n",
    "    # 출력 포맷2\n",
    "    print('감사결과')\n",
    "    print('키 : %dcm 몸무게 : %dkg'%(hight, weight))\n",
    "    print('비만 입니다. (BIM지수 {:.2f}%)'.format(BMI))\n",
    "\n",
    "BMItest(170,73)"
   ]
  },
  {
   "cell_type": "markdown",
   "id": "d1f22288",
   "metadata": {},
   "source": [
    "# 97번 문제"
   ]
  },
  {
   "cell_type": "code",
   "execution_count": 1,
   "id": "4c46d20e",
   "metadata": {},
   "outputs": [
    {
     "name": "stdout",
     "output_type": "stream",
     "text": [
      "甲\n",
      "찾을 수 없는 성씨 입니다.\n"
     ]
    }
   ],
   "source": [
    "# 1번 풀이\n",
    "LastName = {'가': '甲', '나': '乙', '다': '丙', '라': '丁', '마': '戊', '바': '己', '사': '庚'}\n",
    "\n",
    "def serch(text) :\n",
    "    try :\n",
    "        print(LastName[text])\n",
    "        \n",
    "    except KeyError :\n",
    "        print(\"찾을 수 없는 성씨 입니다.\")\n",
    "\n",
    "serch(\"가\")\n",
    "serch(\"강\")"
   ]
  },
  {
   "cell_type": "code",
   "execution_count": 2,
   "id": "cddf157b",
   "metadata": {},
   "outputs": [
    {
     "name": "stdout",
     "output_type": "stream",
     "text": [
      "甲\n",
      "찾을 수 없는 성씨 입니다.\n"
     ]
    }
   ],
   "source": [
    "# 2번 풀이\n",
    "LastName = {'가': '甲', '나': '乙', '다': '丙', '라': '丁', '마': '戊', '바': '己', '사': '庚'}\n",
    "\n",
    "def serch(text) :\n",
    "\n",
    "    if text in LastName :\n",
    "        print(LastName[text])\n",
    "    else :\n",
    "        print(\"찾을 수 없는 성씨 입니다.\")\n",
    "\n",
    "\n",
    "serch(\"가\")\n",
    "serch(\"강\")"
   ]
  },
  {
   "cell_type": "code",
   "execution_count": 2,
   "id": "ce0c488f",
   "metadata": {},
   "outputs": [
    {
     "name": "stdout",
     "output_type": "stream",
     "text": [
      "{'가': '甲', '나': '乙', '다': '丙', '라': '丁', '마': '戊', '바': '己', '사': '庚'}\n",
      "['가', '나', '다', '라', '마', '바', '사']\n"
     ]
    }
   ],
   "source": [
    "LastName = {'가': '甲', '나': '乙', '다': '丙', '라': '丁', '마': '戊', '바': '己', '사': '庚'}\n",
    "print(LastName)\n",
    "\n",
    "K = list(LastName)\n",
    "print(K)"
   ]
  },
  {
   "cell_type": "code",
   "execution_count": 10,
   "id": "8519a188",
   "metadata": {},
   "outputs": [
    {
     "name": "stdout",
     "output_type": "stream",
     "text": [
      "찾을 수 없는 성씨 입니다.\n",
      "찾을 수 없는 성씨 입니다.\n"
     ]
    }
   ],
   "source": [
    "# 3번 풀이 - 틀린 풀이\n",
    "def serch(text) :\n",
    "    # 딕셔너리 > 리스트로 형변화\n",
    "    k_list = list(LastName)\n",
    "    \n",
    "    for i in range(len(k_list)+1) :\n",
    "        # 조건문 사용 > 인덱싱을 통해 1글자씩 모두 비교\n",
    "        if text == k_list[i] :\n",
    "            return print(LastName[text]) # 키값으로 인덱싱 후 출력\n",
    "        else :\n",
    "            return print(\"찾을 수 없는 성씨 입니다.\")\n",
    "        \n",
    "\n",
    "serch(\"나\")\n",
    "serch(\"강\")"
   ]
  },
  {
   "cell_type": "code",
   "execution_count": 9,
   "id": "bd491269",
   "metadata": {},
   "outputs": [
    {
     "name": "stdout",
     "output_type": "stream",
     "text": [
      "乙\n",
      "찾을 수 없는 성씨 입니다.\n"
     ]
    }
   ],
   "source": [
    "# 3번 풀이 - 수정풀이\n",
    "def serch(text) :\n",
    "    # 딕셔너리 > 리스트로 형변화\n",
    "    k_list = list(LastName)\n",
    "    \n",
    "    for i in range(len(k_list)+1) :\n",
    "     \n",
    "        # 인덱스가 7까지 갔다면 내부에 없다는 소리\n",
    "        if i == 7 :\n",
    "            return print(\"찾을 수 없는 성씨 입니다.\")\n",
    "        \n",
    "        if text != k_list[i] :\n",
    "            continue\n",
    "            \n",
    "        else :\n",
    "            return print(LastName[text]) # 키값으로 인덱싱 후 출력\n",
    "\n",
    "serch(\"나\")\n",
    "serch(\"강\")"
   ]
  },
  {
   "cell_type": "markdown",
   "id": "02944961",
   "metadata": {},
   "source": [
    "# 96"
   ]
  },
  {
   "cell_type": "code",
   "execution_count": 12,
   "id": "9e53d95a",
   "metadata": {},
   "outputs": [
    {
     "name": "stdout",
     "output_type": "stream",
     "text": [
      "01 02 03 04 \n",
      "02 04 06 08 \n",
      "03 06 09 12 \n",
      "04 08 12 16 \n",
      "ㅡㅡㅡㅡㅡ\n",
      "01 02 03 04 05 06 07 08 09 \n",
      "02 04 06 08 10 12 14 16 18 \n",
      "03 06 09 12 15 18 21 24 27 \n",
      "04 08 12 16 20 24 28 32 36 \n",
      "05 10 15 20 25 30 35 40 45 \n",
      "06 12 18 24 30 36 42 48 54 \n",
      "07 14 21 28 35 42 49 56 63 \n",
      "08 16 24 32 40 48 56 64 72 \n",
      "09 18 27 36 45 54 63 72 81 \n"
     ]
    }
   ],
   "source": [
    "# 풀이1\n",
    "def square(num) :\n",
    "    for i in range(1, num+1) :# 행의 개수\n",
    "        for j in range(1, num + 1) : # 열의 개수\n",
    "            print('{:02d}'.format(i*j), end=\" \")\n",
    "        print()\n",
    "\n",
    "\n",
    "square(4)\n",
    "print(\"ㅡㅡㅡㅡㅡ\")\n",
    "square(9)"
   ]
  },
  {
   "cell_type": "code",
   "execution_count": 14,
   "id": "ad263287",
   "metadata": {},
   "outputs": [
    {
     "name": "stdout",
     "output_type": "stream",
     "text": [
      "01 02 03 04 \n",
      "02 04 06 08 \n",
      "03 06 09 12 \n",
      "04 08 12 16 \n",
      "ㅡㅡㅡㅡㅡ\n",
      "01 02 03 04 05 06 07 08 09 \n",
      "02 04 06 08 10 12 14 16 18 \n",
      "03 06 09 12 15 18 21 24 27 \n",
      "04 08 12 16 20 24 28 32 36 \n",
      "05 10 15 20 25 30 35 40 45 \n",
      "06 12 18 24 30 36 42 48 54 \n",
      "07 14 21 28 35 42 49 56 63 \n",
      "08 16 24 32 40 48 56 64 72 \n",
      "09 18 27 36 45 54 63 72 81 \n"
     ]
    }
   ],
   "source": [
    "# 풀이2\n",
    "def square(num) :\n",
    "    for i in range(1, num+1) :\n",
    "        for j in range(1, num+1) :\n",
    "            if (i*j<10) : # 두수를 곱해 1의 자리 수라면 ....0을 붙여 출력\n",
    "                print(0, end=\"\")\n",
    "            print(i*j, end=\" \")\n",
    "        print()\n",
    "\n",
    "square(4)\n",
    "print(\"ㅡㅡㅡㅡㅡ\")\n",
    "square(9)"
   ]
  },
  {
   "cell_type": "markdown",
   "id": "650ee2e4",
   "metadata": {},
   "source": [
    "# 95"
   ]
  },
  {
   "cell_type": "code",
   "execution_count": null,
   "id": "089ae710",
   "metadata": {},
   "outputs": [],
   "source": []
  },
  {
   "cell_type": "markdown",
   "id": "5905311b",
   "metadata": {},
   "source": [
    "# 94"
   ]
  },
  {
   "cell_type": "code",
   "execution_count": 17,
   "id": "a8d3cde4",
   "metadata": {},
   "outputs": [
    {
     "name": "stdout",
     "output_type": "stream",
     "text": [
      "추천 메뉴는!! 라면6입니다.\n"
     ]
    }
   ],
   "source": [
    "# 1번 풀이\n",
    "import random\n",
    "\n",
    "def lunch_reco(list_food) :\n",
    "    food = random.choice(list_food)\n",
    "    print(f'추천 메뉴는!! {food}입니다.')\n",
    "\n",
    "\n",
    "lunch = [\"라면1\", \"라면2\", \"라면3\", \"라면4\", \"라면5\", \"라면6\"]\n",
    "lunch_reco(lunch)"
   ]
  },
  {
   "cell_type": "code",
   "execution_count": 18,
   "id": "6997fbf0",
   "metadata": {
    "scrolled": true
   },
   "outputs": [
    {
     "name": "stdout",
     "output_type": "stream",
     "text": [
      "추천 메뉴는!! 라면2입니다.\n"
     ]
    }
   ],
   "source": [
    "# 2번 풀이\n",
    "import random\n",
    "\n",
    "def lunch_reco(list_food) :\n",
    "    index = random.randint(0,len(lunch)-1) # ~이상 ~ 이하\n",
    "    print(f'추천 메뉴는!! {lunch[index]}입니다.')\n",
    "\n",
    "\n",
    "lunch = [\"라면1\", \"라면2\", \"라면3\", \"라면4\", \"라면5\", \"라면6\"]\n",
    "lunch_reco(lunch)"
   ]
  },
  {
   "cell_type": "code",
   "execution_count": null,
   "id": "77802dd2",
   "metadata": {},
   "outputs": [],
   "source": []
  },
  {
   "cell_type": "markdown",
   "id": "d8f8e367",
   "metadata": {},
   "source": [
    "# 36"
   ]
  },
  {
   "cell_type": "code",
   "execution_count": 12,
   "id": "3359000f",
   "metadata": {},
   "outputs": [
    {
     "name": "stdout",
     "output_type": "stream",
     "text": [
      "['피자', '치킨']\n",
      "['햄버거', '피자', '치킨', '부닭찌개', '족발']\n",
      "['햄버거', '부닭찌개', '족발']\n"
     ]
    }
   ],
   "source": [
    "# 1번 풀이 슬라이싱 사용 풀이\n",
    "food_list = ['햄버거', '피자', '치킨', '부닭찌개', '족발']\n",
    "print(food_list[1:3]) # 리스트 슬라이싱 새로운 객체 반환\n",
    "print(food_list)\n",
    "\n",
    "del food_list[1:3]\n",
    "print(food_list)"
   ]
  },
  {
   "cell_type": "code",
   "execution_count": 13,
   "id": "e121d8ff",
   "metadata": {},
   "outputs": [
    {
     "name": "stdout",
     "output_type": "stream",
     "text": [
      "피자\n",
      "['햄버거', '치킨', '부닭찌개', '족발']\n",
      "치킨\n",
      "['햄버거', '부닭찌개', '족발']\n"
     ]
    }
   ],
   "source": [
    "# 2번 풀이 pop메서드 사용\n",
    "food_list = ['햄버거', '피자', '치킨', '부닭찌개', '족발']\n",
    "print(food_list.pop(1)) # POP 메서드는 원본객체를 수정하는 메서드/함수\n",
    "print(food_list)\n",
    "print(food_list.pop(1))\n",
    "print(food_list)"
   ]
  },
  {
   "cell_type": "code",
   "execution_count": null,
   "id": "1560aadb",
   "metadata": {},
   "outputs": [],
   "source": []
  },
  {
   "cell_type": "code",
   "execution_count": null,
   "id": "a47382e9",
   "metadata": {},
   "outputs": [],
   "source": []
  },
  {
   "cell_type": "code",
   "execution_count": null,
   "id": "e352d085",
   "metadata": {},
   "outputs": [],
   "source": []
  },
  {
   "cell_type": "code",
   "execution_count": null,
   "id": "fc28738d",
   "metadata": {},
   "outputs": [],
   "source": []
  }
 ],
 "metadata": {
  "kernelspec": {
   "display_name": "Python 3 (ipykernel)",
   "language": "python",
   "name": "python3"
  },
  "language_info": {
   "codemirror_mode": {
    "name": "ipython",
    "version": 3
   },
   "file_extension": ".py",
   "mimetype": "text/x-python",
   "name": "python",
   "nbconvert_exporter": "python",
   "pygments_lexer": "ipython3",
   "version": "3.8.10"
  }
 },
 "nbformat": 4,
 "nbformat_minor": 5
}
