{
 "cells": [
  {
   "cell_type": "markdown",
   "id": "2faa720f",
   "metadata": {},
   "source": [
    "# 100번 문제"
   ]
  },
  {
   "cell_type": "code",
   "execution_count": 1,
   "id": "678db620",
   "metadata": {},
   "outputs": [
    {
     "name": "stdout",
     "output_type": "stream",
     "text": [
      "2023-09-25 10:11:27.589093\n"
     ]
    }
   ],
   "source": [
    "import datetime\n",
    "\n",
    "print(datetime.datetime.now())"
   ]
  },
  {
   "cell_type": "markdown",
   "id": "ca3e5b28",
   "metadata": {},
   "source": [
    "# 99번 문제"
   ]
  },
  {
   "cell_type": "code",
   "execution_count": 3,
   "id": "5a6eabf8",
   "metadata": {},
   "outputs": [
    {
     "name": "stdout",
     "output_type": "stream",
     "text": [
      "{1, 34, 35, 18, 24}\n",
      "[1, 34, 35, 18, 24]\n",
      "[1, 18, 24, 34, 35]\n",
      "<파이썬으로 만든 이건휘 로또 번호 생성기>\n",
      "당첨번호 1 18 24 34 + 보너스 35\n"
     ]
    }
   ],
   "source": [
    "# 1번 풀이 =>\n",
    "import random\n",
    "\n",
    "num_set = set()\n",
    "# 로또 번호 개수\n",
    "n = 7\n",
    "\n",
    "# 랜덤하게 중복 x 7개 숫자 선택\n",
    "for i in range(n) :\n",
    "    num_set.add(random.randint(1,45))\n",
    "\n",
    "\n",
    "print(num_set) # {36, 43, 11, 45, 26, 29, 30}\n",
    "num_list = list(num_set)\n",
    "print(num_list) # [36, 43, 11, 45, 26, 29, 30]\n",
    "num_list.sort()\n",
    "print(num_list) # [11, 26, 29, 30, 36, 43, 45]\n",
    "\n",
    "# 출력 문자열 포맷팅\n",
    "print(\"<파이썬으로 만든 이건휘 로또 번호 생성기>\")\n",
    "print(\"당첨번호 \",end=\"\")\n",
    "for num in num_list :\n",
    "    if (num == num_list[-1]) :\n",
    "        break\n",
    "    print(num, end=' ')\n",
    "\n",
    "print(f\"+ 보너스 {num_list[-1]}\")"
   ]
  },
  {
   "cell_type": "code",
   "execution_count": 4,
   "id": "4918077d",
   "metadata": {},
   "outputs": [
    {
     "name": "stdout",
     "output_type": "stream",
     "text": [
      "1번 로또번호 : 39\n",
      "2번 로또번호 : 28\n",
      "3번 로또번호 : 17\n",
      "4번 로또번호 : 36\n",
      "5번 로또번호 : 44\n",
      "6번 로또번호 : 1\n",
      "7번 로또번호 : 12\n",
      "<파이썬으로 만든 이건휘 로또 번호 생성기>\n",
      "당첨번호 1 12 17 28 36 39 + 보너스 44\n"
     ]
    }
   ],
   "source": [
    "# 2번 풀이\n",
    "# 처음풀이 내 풀이 =>\n",
    "import random\n",
    "\n",
    "lotto_list = []\n",
    "lotto_num = 1\n",
    "while (len(lotto_list) < 7 ) :\n",
    "    # 반복 시행 시 매번 새로운 수 출력\n",
    "    ran_num = random.randint(1,45)\n",
    "\n",
    "    # 값이 없으면 추가한다\n",
    "    if not ( ran_num in lotto_list ) :\n",
    "        lotto_list.append(ran_num)\n",
    "        print(f'{lotto_num}번 로또번호 : {ran_num}')\n",
    "        lotto_num += 1\n",
    "\n",
    "# 정렬\n",
    "lotto_list.sort()\n",
    "# 출력 문자열 포맷팅\n",
    "print(\"<파이썬으로 만든 이건휘 로또 번호 생성기>\")\n",
    "print(\"당첨번호 \",end=\"\")\n",
    "for num in lotto_list[0:6] :\n",
    "    print(num, end=' ')\n",
    "\n",
    "print(f\"+ 보너스 {lotto_list[6]}\")"
   ]
  },
  {
   "cell_type": "markdown",
   "id": "f177a757",
   "metadata": {},
   "source": [
    "# 98번 문제"
   ]
  },
  {
   "cell_type": "code",
   "execution_count": 6,
   "id": "504ea6df",
   "metadata": {},
   "outputs": [
    {
     "name": "stdout",
     "output_type": "stream",
     "text": [
      "감사결과\n",
      "키: : 170cm 몸무게 : 73kg\n",
      "비만 입니다. (BMI지수 25.26%)\n",
      "감사결과\n",
      "키 : 170cm 몸무게 : 73kg\n",
      "비만 입니다. (BIM지수 25.26%)\n"
     ]
    }
   ],
   "source": [
    "def BMItest(hight, weight) :\n",
    "    # 매개변수로 들어온 인수로 BMI 수치 계산\n",
    "    BMI = weight/((hight/100)**2)\n",
    "    if (BMI <= 18.5) :\n",
    "        result = '저체중'\n",
    "    elif (18.5 < BMI <= 22.9) :\n",
    "        result = '정상'\n",
    "    elif (23 < BMI <= 24.9) :\n",
    "        result = '과체중'\n",
    "    elif (25<= BMI) :\n",
    "        result = '비만'\n",
    "\n",
    "     # 출력 포맷1\n",
    "    print(f\"감사결과\\n키: : {hight}cm 몸무게 : {weight}kg\\n{result} 입니다. (BMI지수 {round(BMI,2)}%)\")\n",
    "\n",
    "    # 출력 포맷2\n",
    "    print('감사결과')\n",
    "    print('키 : %dcm 몸무게 : %dkg'%(hight, weight))\n",
    "    print('비만 입니다. (BIM지수 {:.2f}%)'.format(BMI))\n",
    "\n",
    "BMItest(170,73)"
   ]
  },
  {
   "cell_type": "code",
   "execution_count": null,
   "id": "6ba01814",
   "metadata": {},
   "outputs": [],
   "source": []
  }
 ],
 "metadata": {
  "kernelspec": {
   "display_name": "Python 3 (ipykernel)",
   "language": "python",
   "name": "python3"
  },
  "language_info": {
   "codemirror_mode": {
    "name": "ipython",
    "version": 3
   },
   "file_extension": ".py",
   "mimetype": "text/x-python",
   "name": "python",
   "nbconvert_exporter": "python",
   "pygments_lexer": "ipython3",
   "version": "3.8.10"
  }
 },
 "nbformat": 4,
 "nbformat_minor": 5
}
