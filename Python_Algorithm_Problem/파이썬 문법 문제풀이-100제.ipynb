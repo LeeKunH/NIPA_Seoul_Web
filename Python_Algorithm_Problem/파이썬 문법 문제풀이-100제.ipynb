{
 "cells": [
  {
   "cell_type": "markdown",
   "id": "2faa720f",
   "metadata": {},
   "source": [
    "# 100번 문제"
   ]
  },
  {
   "cell_type": "code",
   "execution_count": 1,
   "id": "678db620",
   "metadata": {},
   "outputs": [
    {
     "name": "stdout",
     "output_type": "stream",
     "text": [
      "2023-09-25 10:11:27.589093\n"
     ]
    }
   ],
   "source": [
    "import datetime\n",
    "\n",
    "print(datetime.datetime.now())"
   ]
  },
  {
   "cell_type": "markdown",
   "id": "ca3e5b28",
   "metadata": {},
   "source": [
    "# 99번 문제"
   ]
  },
  {
   "cell_type": "code",
   "execution_count": 3,
   "id": "5a6eabf8",
   "metadata": {},
   "outputs": [
    {
     "name": "stdout",
     "output_type": "stream",
     "text": [
      "{1, 34, 35, 18, 24}\n",
      "[1, 34, 35, 18, 24]\n",
      "[1, 18, 24, 34, 35]\n",
      "<파이썬으로 만든 이건휘 로또 번호 생성기>\n",
      "당첨번호 1 18 24 34 + 보너스 35\n"
     ]
    }
   ],
   "source": [
    "# 1번 풀이 =>\n",
    "import random\n",
    "\n",
    "num_set = set()\n",
    "# 로또 번호 개수\n",
    "n = 7\n",
    "\n",
    "# 랜덤하게 중복 x 7개 숫자 선택\n",
    "for i in range(n) :\n",
    "    num_set.add(random.randint(1,45))\n",
    "\n",
    "\n",
    "print(num_set) # {36, 43, 11, 45, 26, 29, 30}\n",
    "num_list = list(num_set)\n",
    "print(num_list) # [36, 43, 11, 45, 26, 29, 30]\n",
    "num_list.sort()\n",
    "print(num_list) # [11, 26, 29, 30, 36, 43, 45]\n",
    "\n",
    "# 출력 문자열 포맷팅\n",
    "print(\"<파이썬으로 만든 이건휘 로또 번호 생성기>\")\n",
    "print(\"당첨번호 \",end=\"\")\n",
    "for num in num_list :\n",
    "    if (num == num_list[-1]) :\n",
    "        break\n",
    "    print(num, end=' ')\n",
    "\n",
    "print(f\"+ 보너스 {num_list[-1]}\")"
   ]
  },
  {
   "cell_type": "code",
   "execution_count": 4,
   "id": "4918077d",
   "metadata": {},
   "outputs": [
    {
     "name": "stdout",
     "output_type": "stream",
     "text": [
      "1번 로또번호 : 39\n",
      "2번 로또번호 : 28\n",
      "3번 로또번호 : 17\n",
      "4번 로또번호 : 36\n",
      "5번 로또번호 : 44\n",
      "6번 로또번호 : 1\n",
      "7번 로또번호 : 12\n",
      "<파이썬으로 만든 이건휘 로또 번호 생성기>\n",
      "당첨번호 1 12 17 28 36 39 + 보너스 44\n"
     ]
    }
   ],
   "source": [
    "# 2번 풀이\n",
    "# 처음풀이 내 풀이 =>\n",
    "import random\n",
    "\n",
    "lotto_list = []\n",
    "lotto_num = 1\n",
    "while (len(lotto_list) < 7 ) :\n",
    "    # 반복 시행 시 매번 새로운 수 출력\n",
    "    ran_num = random.randint(1,45)\n",
    "\n",
    "    # 값이 없으면 추가한다\n",
    "    if not ( ran_num in lotto_list ) :\n",
    "        lotto_list.append(ran_num)\n",
    "        print(f'{lotto_num}번 로또번호 : {ran_num}')\n",
    "        lotto_num += 1\n",
    "\n",
    "# 정렬\n",
    "lotto_list.sort()\n",
    "# 출력 문자열 포맷팅\n",
    "print(\"<파이썬으로 만든 이건휘 로또 번호 생성기>\")\n",
    "print(\"당첨번호 \",end=\"\")\n",
    "for num in lotto_list[0:6] :\n",
    "    print(num, end=' ')\n",
    "\n",
    "print(f\"+ 보너스 {lotto_list[6]}\")"
   ]
  },
  {
   "cell_type": "markdown",
   "id": "f177a757",
   "metadata": {},
   "source": [
    "# 98번 문제"
   ]
  },
  {
   "cell_type": "code",
   "execution_count": 6,
   "id": "504ea6df",
   "metadata": {},
   "outputs": [
    {
     "name": "stdout",
     "output_type": "stream",
     "text": [
      "감사결과\n",
      "키: : 170cm 몸무게 : 73kg\n",
      "비만 입니다. (BMI지수 25.26%)\n",
      "감사결과\n",
      "키 : 170cm 몸무게 : 73kg\n",
      "비만 입니다. (BIM지수 25.26%)\n"
     ]
    }
   ],
   "source": [
    "def BMItest(hight, weight) :\n",
    "    # 매개변수로 들어온 인수로 BMI 수치 계산\n",
    "    BMI = weight/((hight/100)**2)\n",
    "    if (BMI <= 18.5) :\n",
    "        result = '저체중'\n",
    "    elif (18.5 < BMI <= 22.9) :\n",
    "        result = '정상'\n",
    "    elif (23 < BMI <= 24.9) :\n",
    "        result = '과체중'\n",
    "    elif (25<= BMI) :\n",
    "        result = '비만'\n",
    "\n",
    "     # 출력 포맷1\n",
    "    print(f\"감사결과\\n키: : {hight}cm 몸무게 : {weight}kg\\n{result} 입니다. (BMI지수 {round(BMI,2)}%)\")\n",
    "\n",
    "    # 출력 포맷2\n",
    "    print('감사결과')\n",
    "    print('키 : %dcm 몸무게 : %dkg'%(hight, weight))\n",
    "    print('비만 입니다. (BIM지수 {:.2f}%)'.format(BMI))\n",
    "\n",
    "BMItest(170,73)"
   ]
  },
  {
   "cell_type": "markdown",
   "id": "d1f22288",
   "metadata": {},
   "source": [
    "# 97번 문제"
   ]
  },
  {
   "cell_type": "code",
   "execution_count": 1,
   "id": "4c46d20e",
   "metadata": {},
   "outputs": [
    {
     "name": "stdout",
     "output_type": "stream",
     "text": [
      "甲\n",
      "찾을 수 없는 성씨 입니다.\n"
     ]
    }
   ],
   "source": [
    "# 1번 풀이\n",
    "LastName = {'가': '甲', '나': '乙', '다': '丙', '라': '丁', '마': '戊', '바': '己', '사': '庚'}\n",
    "\n",
    "def serch(text) :\n",
    "    try :\n",
    "        print(LastName[text])\n",
    "        \n",
    "    except KeyError :\n",
    "        print(\"찾을 수 없는 성씨 입니다.\")\n",
    "\n",
    "serch(\"가\")\n",
    "serch(\"강\")"
   ]
  },
  {
   "cell_type": "code",
   "execution_count": 2,
   "id": "cddf157b",
   "metadata": {},
   "outputs": [
    {
     "name": "stdout",
     "output_type": "stream",
     "text": [
      "甲\n",
      "찾을 수 없는 성씨 입니다.\n"
     ]
    }
   ],
   "source": [
    "# 2번 풀이\n",
    "LastName = {'가': '甲', '나': '乙', '다': '丙', '라': '丁', '마': '戊', '바': '己', '사': '庚'}\n",
    "\n",
    "def serch(text) :\n",
    "\n",
    "    if text in LastName :\n",
    "        print(LastName[text])\n",
    "    else :\n",
    "        print(\"찾을 수 없는 성씨 입니다.\")\n",
    "\n",
    "\n",
    "serch(\"가\")\n",
    "serch(\"강\")"
   ]
  },
  {
   "cell_type": "code",
   "execution_count": 2,
   "id": "ce0c488f",
   "metadata": {},
   "outputs": [
    {
     "name": "stdout",
     "output_type": "stream",
     "text": [
      "{'가': '甲', '나': '乙', '다': '丙', '라': '丁', '마': '戊', '바': '己', '사': '庚'}\n",
      "['가', '나', '다', '라', '마', '바', '사']\n"
     ]
    }
   ],
   "source": [
    "LastName = {'가': '甲', '나': '乙', '다': '丙', '라': '丁', '마': '戊', '바': '己', '사': '庚'}\n",
    "print(LastName)\n",
    "\n",
    "K = list(LastName)\n",
    "print(K)"
   ]
  },
  {
   "cell_type": "code",
   "execution_count": 10,
   "id": "8519a188",
   "metadata": {},
   "outputs": [
    {
     "name": "stdout",
     "output_type": "stream",
     "text": [
      "찾을 수 없는 성씨 입니다.\n",
      "찾을 수 없는 성씨 입니다.\n"
     ]
    }
   ],
   "source": [
    "# 3번 풀이 - 틀린 풀이\n",
    "def serch(text) :\n",
    "    # 딕셔너리 > 리스트로 형변화\n",
    "    k_list = list(LastName)\n",
    "    \n",
    "    for i in range(len(k_list)+1) :\n",
    "        # 조건문 사용 > 인덱싱을 통해 1글자씩 모두 비교\n",
    "        if text == k_list[i] :\n",
    "            return print(LastName[text]) # 키값으로 인덱싱 후 출력\n",
    "        else :\n",
    "            return print(\"찾을 수 없는 성씨 입니다.\")\n",
    "        \n",
    "\n",
    "serch(\"나\")\n",
    "serch(\"강\")"
   ]
  },
  {
   "cell_type": "code",
   "execution_count": 9,
   "id": "a54a1a44",
   "metadata": {},
   "outputs": [
    {
     "name": "stdout",
     "output_type": "stream",
     "text": [
      "乙\n",
      "찾을 수 없는 성씨 입니다.\n"
     ]
    }
   ],
   "source": [
    "# 3번 풀이 - 수정풀이\n",
    "def serch(text) :\n",
    "    # 딕셔너리 > 리스트로 형변화\n",
    "    k_list = list(LastName)\n",
    "    \n",
    "    for i in range(len(k_list)+1) :\n",
    "     \n",
    "        # 인덱스가 7까지 갔다면 내부에 없다는 소리\n",
    "        if i == 7 :\n",
    "            return print(\"찾을 수 없는 성씨 입니다.\")\n",
    "        \n",
    "        if text != k_list[i] :\n",
    "            continue\n",
    "            \n",
    "        else :\n",
    "            return print(LastName[text]) # 키값으로 인덱싱 후 출력\n",
    "\n",
    "serch(\"나\")\n",
    "serch(\"강\")"
   ]
  },
  {
   "cell_type": "markdown",
   "id": "02944961",
   "metadata": {},
   "source": [
    "# 96"
   ]
  },
  {
   "cell_type": "code",
   "execution_count": 12,
   "id": "9e53d95a",
   "metadata": {},
   "outputs": [
    {
     "name": "stdout",
     "output_type": "stream",
     "text": [
      "01 02 03 04 \n",
      "02 04 06 08 \n",
      "03 06 09 12 \n",
      "04 08 12 16 \n",
      "ㅡㅡㅡㅡㅡ\n",
      "01 02 03 04 05 06 07 08 09 \n",
      "02 04 06 08 10 12 14 16 18 \n",
      "03 06 09 12 15 18 21 24 27 \n",
      "04 08 12 16 20 24 28 32 36 \n",
      "05 10 15 20 25 30 35 40 45 \n",
      "06 12 18 24 30 36 42 48 54 \n",
      "07 14 21 28 35 42 49 56 63 \n",
      "08 16 24 32 40 48 56 64 72 \n",
      "09 18 27 36 45 54 63 72 81 \n"
     ]
    }
   ],
   "source": [
    "# 풀이1\n",
    "def square(num) :\n",
    "    for i in range(1, num+1) :# 행의 개수\n",
    "        for j in range(1, num + 1) : # 열의 개수\n",
    "            print('{:02d}'.format(i*j), end=\" \")\n",
    "        print()\n",
    "\n",
    "\n",
    "square(4)\n",
    "print(\"ㅡㅡㅡㅡㅡ\")\n",
    "square(9)"
   ]
  },
  {
   "cell_type": "code",
   "execution_count": 14,
   "id": "ad263287",
   "metadata": {},
   "outputs": [
    {
     "name": "stdout",
     "output_type": "stream",
     "text": [
      "01 02 03 04 \n",
      "02 04 06 08 \n",
      "03 06 09 12 \n",
      "04 08 12 16 \n",
      "ㅡㅡㅡㅡㅡ\n",
      "01 02 03 04 05 06 07 08 09 \n",
      "02 04 06 08 10 12 14 16 18 \n",
      "03 06 09 12 15 18 21 24 27 \n",
      "04 08 12 16 20 24 28 32 36 \n",
      "05 10 15 20 25 30 35 40 45 \n",
      "06 12 18 24 30 36 42 48 54 \n",
      "07 14 21 28 35 42 49 56 63 \n",
      "08 16 24 32 40 48 56 64 72 \n",
      "09 18 27 36 45 54 63 72 81 \n"
     ]
    }
   ],
   "source": [
    "# 풀이2\n",
    "def square(num) :\n",
    "    for i in range(1, num+1) :\n",
    "        for j in range(1, num+1) :\n",
    "            if (i*j<10) : # 두수를 곱해 1의 자리 수라면 ....0을 붙여 출력\n",
    "                print(0, end=\"\")\n",
    "            print(i*j, end=\" \")\n",
    "        print()\n",
    "\n",
    "square(4)\n",
    "print(\"ㅡㅡㅡㅡㅡ\")\n",
    "square(9)"
   ]
  },
  {
   "cell_type": "markdown",
   "id": "650ee2e4",
   "metadata": {},
   "source": [
    "# 95"
   ]
  },
  {
   "cell_type": "code",
   "execution_count": 2,
   "id": "089ae710",
   "metadata": {},
   "outputs": [
    {
     "name": "stdout",
     "output_type": "stream",
     "text": [
      "0001000\n",
      "0011100\n",
      "0111110\n",
      "1111111\n",
      "1111111\n",
      "0111110\n",
      "0011100\n",
      "0001000\n"
     ]
    }
   ],
   "source": [
    "# 함수 정의\n",
    "# 함수에 숫자를 전달했을 때 그게 맞는 마름모를 출력하는 기능 정의\n",
    "def rhombus(n) :\n",
    "    for i in range(1, n+1) : # 1번 반복문 : 마름모 윗 부분 출력 행 개수를 의미\n",
    "        for j in range(n-i) : # 앞 부분 0의 개수를 의미하는 반복문 # 시행 증가 시 출력되는 0개수 감소 3개 > 2개 > 1개 > 0개\n",
    "            print(0, end=\"\")\n",
    "        for j in range(1, i*2) : # 시행마다 출력하는 1의 개수 의미하는 반복문 # 1 > 3 > 5 > 7 출력\n",
    "            print(1, end = \"\")\n",
    "        for j in range(n-i) : # 뒷 부분 0의 개수를 의미하는 반복문 # 시행마다 출력되는 0개수 감소 # 출력 행을 의미하는 i를 사용\n",
    "            print(0, end=\"\")\n",
    "        print()\n",
    "    for i in range(n) : # 마름모 아래 부분 출력 행 개수 의미하는 반복문 # i값 출력되는 행에 대한 의미를 가지고 있는 중요 변수\n",
    "        for j in range(i) : # 앞 부분 0 개수 의미 # 0개 > 1개 > 2개 > 3개 ...\n",
    "            print(0, end=\"\")\n",
    "        for j in range(n*2, 1+i*2,-1) : # 시행마다 출력하는 1의 개수 감소되도록 # 7개 > 5개 > 3개 >1개 ..# 역순출력\n",
    "            print(1, end='')\n",
    "        for j in range(i) : # 앞 부분 0 개수 의미 # 0개 > 1개 > 2개 > 3개 ...\n",
    "            print(0, end=\"\")\n",
    "        print()\n",
    "\n",
    "# 함수 호출 > 결과 확인\n",
    "# rhombus(10)\n",
    "rhombus(4)"
   ]
  },
  {
   "cell_type": "markdown",
   "id": "5905311b",
   "metadata": {},
   "source": [
    "# 94"
   ]
  },
  {
   "cell_type": "code",
   "execution_count": 17,
   "id": "a8d3cde4",
   "metadata": {},
   "outputs": [
    {
     "name": "stdout",
     "output_type": "stream",
     "text": [
      "추천 메뉴는!! 라면6입니다.\n"
     ]
    }
   ],
   "source": [
    "# 1번 풀이\n",
    "import random\n",
    "\n",
    "def lunch_reco(list_food) :\n",
    "    food = random.choice(list_food)\n",
    "    print(f'추천 메뉴는!! {food}입니다.')\n",
    "\n",
    "\n",
    "lunch = [\"라면1\", \"라면2\", \"라면3\", \"라면4\", \"라면5\", \"라면6\"]\n",
    "lunch_reco(lunch)"
   ]
  },
  {
   "cell_type": "code",
   "execution_count": 18,
   "id": "6997fbf0",
   "metadata": {
    "scrolled": true
   },
   "outputs": [
    {
     "name": "stdout",
     "output_type": "stream",
     "text": [
      "추천 메뉴는!! 라면2입니다.\n"
     ]
    }
   ],
   "source": [
    "# 2번 풀이\n",
    "import random\n",
    "\n",
    "def lunch_reco(list_food) :\n",
    "    index = random.randint(0,len(lunch)-1) # ~이상 ~ 이하\n",
    "    print(f'추천 메뉴는!! {lunch[index]}입니다.')\n",
    "\n",
    "\n",
    "lunch = [\"라면1\", \"라면2\", \"라면3\", \"라면4\", \"라면5\", \"라면6\"]\n",
    "lunch_reco(lunch)"
   ]
  },
  {
   "cell_type": "markdown",
   "id": "8c1b8cb8",
   "metadata": {},
   "source": [
    "# 93"
   ]
  },
  {
   "cell_type": "code",
   "execution_count": 8,
   "id": "77802dd2",
   "metadata": {},
   "outputs": [
    {
     "name": "stdout",
     "output_type": "stream",
     "text": [
      ".다있 고지워까가 에표목심핵 씩금조 일매 는휘건이"
     ]
    }
   ],
   "source": [
    "# 1번 풀이\n",
    "def reverse_print(strings) :\n",
    "    list_str = list(strings)\n",
    "\n",
    "    while ( bool(list_str)) :\n",
    "        print(list_str.pop(), end=\"\")\n",
    "\n",
    "\n",
    "reverse_print(\"이건휘는 매일 조금씩 핵심목표에 가까워지고 있다.\")"
   ]
  },
  {
   "cell_type": "code",
   "execution_count": 12,
   "id": "55cd3dbc",
   "metadata": {},
   "outputs": [
    {
     "name": "stdout",
     "output_type": "stream",
     "text": [
      ".다있 고지워까가 에표목심핵 씩금조 일매 는휘건이"
     ]
    }
   ],
   "source": [
    "# 2번 풀이\n",
    "def reverse_print(strings) :\n",
    "    list_str = list(strings)\n",
    "        \n",
    "    for i in list_str[::-1] :\n",
    "        print(i, end = \"\")\n",
    "\n",
    "\n",
    "reverse_print(\"이건휘는 매일 조금씩 핵심목표에 가까워지고 있다.\")"
   ]
  },
  {
   "cell_type": "markdown",
   "id": "5e23f470",
   "metadata": {},
   "source": [
    "# 92"
   ]
  },
  {
   "cell_type": "code",
   "execution_count": 18,
   "id": "54f6fc47",
   "metadata": {},
   "outputs": [
    {
     "name": "stdout",
     "output_type": "stream",
     "text": [
      "Help on built-in function abs in module builtins:\n",
      "\n",
      "abs(x, /)\n",
      "    Return the absolute value of the argument.\n",
      "\n"
     ]
    }
   ],
   "source": [
    "# test\n",
    "help(abs)"
   ]
  },
  {
   "cell_type": "code",
   "execution_count": 21,
   "id": "a69b9483",
   "metadata": {},
   "outputs": [
    {
     "name": "stdout",
     "output_type": "stream",
     "text": [
      "Help on function stock in module __main__:\n",
      "\n",
      "stock(buy, sell, shares)\n",
      "    매수가격-sell\n",
      "    매도가격-buy\n",
      "    수량-shares\n",
      "    3개 변수를 가지고 총손익(income)과 수익률(rate)를 반환/출력하는 stock() 함수입니다.\n",
      "    \n",
      "    income = (sell - buy)*shares\n",
      "    rate = sell/buy*100-100\n",
      "\n"
     ]
    }
   ],
   "source": [
    "def stock(buy, sell, shares) :\n",
    "    '''\n",
    "    매수가격-sell\n",
    "    매도가격-buy\n",
    "    수량-shares\n",
    "    3개 변수를 가지고 총손익(income)과 수익률(rate)를 반환/출력하는 stock() 함수입니다.\n",
    "    \n",
    "    income = (sell - buy)*shares\n",
    "    rate = sell/buy*100-100\n",
    "    '''\n",
    "    \n",
    "    income = (sell - buy)*shares\n",
    "    rate = sell/buy*100-100\n",
    "    print(f\"({income}, {rate})\")\n",
    "\n",
    "    \n",
    "help(stock)"
   ]
  },
  {
   "cell_type": "markdown",
   "id": "c6f921e7",
   "metadata": {},
   "source": [
    "# 91"
   ]
  },
  {
   "cell_type": "code",
   "execution_count": 17,
   "id": "85911fcd",
   "metadata": {},
   "outputs": [
    {
     "name": "stdout",
     "output_type": "stream",
     "text": [
      "(1360000, 20.48192771084338)\n"
     ]
    }
   ],
   "source": [
    "def stock(buy, sell, shares) :\n",
    "    \n",
    "    income = (sell - buy)*shares\n",
    "    rate = sell/buy*100-100\n",
    "    print(f\"({income}, {rate})\")\n",
    "\n",
    "stock(66400, 80000, 100) # 함수 호출"
   ]
  },
  {
   "cell_type": "markdown",
   "id": "0ceb6045",
   "metadata": {},
   "source": [
    "# 90"
   ]
  },
  {
   "cell_type": "code",
   "execution_count": 1,
   "id": "b676d352",
   "metadata": {},
   "outputs": [
    {
     "name": "stdout",
     "output_type": "stream",
     "text": [
      "홍길동님 안녕하세요.\n"
     ]
    }
   ],
   "source": [
    "def hello(name) :\n",
    "    print(f'{name}님 안녕하세요.')\n",
    "\n",
    "hello(\"홍길동\")"
   ]
  },
  {
   "cell_type": "markdown",
   "id": "5371da48",
   "metadata": {},
   "source": [
    "# 89"
   ]
  },
  {
   "cell_type": "code",
   "execution_count": 4,
   "id": "87491774",
   "metadata": {},
   "outputs": [
    {
     "name": "stdout",
     "output_type": "stream",
     "text": [
      "소인수분해 할 숫자 입력 : 24\n",
      "num = 8*3\n"
     ]
    }
   ],
   "source": [
    "# 1번 풀이 틀림\n",
    "num = int(input(\"소인수분해 할 숫자 입력 : \"))\n",
    "\n",
    "num_2 = 0 # 시행횟수 확인\n",
    "num_3 = 0\n",
    "# num_5 = 0\n",
    "# num_7 = 0\n",
    "\n",
    "while (num > 1 ) :\n",
    "\n",
    "    if (num % 2 == 0) :\n",
    "        num = num //2\n",
    "        num_2 += 1\n",
    "        continue\n",
    "\n",
    "    elif (num % 3 == 0) :\n",
    "        num = num // 3\n",
    "        num_3 += 1\n",
    "        continue\n",
    "\n",
    "\n",
    "print(f'num = {2**num_2}*{3**num_3}')"
   ]
  },
  {
   "cell_type": "markdown",
   "id": "b0938665",
   "metadata": {},
   "source": [
    "소인수분해 할 숫자 입력 : 24\n",
    "num = 8*3\n",
    "\n",
    "숫자를 입력하세요: 35\n",
    "무한반복 발생\n"
   ]
  },
  {
   "cell_type": "code",
   "execution_count": 6,
   "id": "d4ec5696",
   "metadata": {},
   "outputs": [
    {
     "name": "stdout",
     "output_type": "stream",
     "text": [
      "숫자를 입력하세요: 24\n",
      "num의 소인수분해 결과: 2*2*2*3\n"
     ]
    }
   ],
   "source": [
    "# 2번 풀이\n",
    "\n",
    "def prime_factors(n):\n",
    "    factors = []\n",
    "    i = 2\n",
    "    while n > 1:\n",
    "        if n % i == 0:\n",
    "            factors.append(i)\n",
    "            n //= i\n",
    "        else:\n",
    "            i += 1\n",
    "    return factors\n",
    "\n",
    "num = int(input(\"숫자를 입력하세요: \"))\n",
    "result = prime_factors(num)\n",
    "result = '*'.join(str(x) for x in result)\n",
    "# result = '*'.join([str(x) for x in result])\n",
    "print(f\"num의 소인수분해 결과: {result}\")"
   ]
  },
  {
   "cell_type": "markdown",
   "id": "e1d301d0",
   "metadata": {},
   "source": [
    "숫자를 입력하세요: 24\n",
    "num의 소인수분해 결과: 2*2*2*3\n",
    "\n",
    "숫자를 입력하세요: 35\n",
    "num의 소인수분해 결과: 5*7\n",
    "\n",
    "숫자를 입력하세요: 55\n",
    "num의 소인수분해 결과: 5*11"
   ]
  },
  {
   "cell_type": "code",
   "execution_count": 5,
   "id": "808dbbc2",
   "metadata": {},
   "outputs": [
    {
     "name": "stdout",
     "output_type": "stream",
     "text": [
      "숫자를 입력하세요: 24\n",
      "num = 2*2*2*3"
     ]
    }
   ],
   "source": [
    "# 3번 풀이\n",
    "\n",
    "num = int(input(\"숫자를 입력하세요: \"))\n",
    "print(\"num = \", end=\"\") # 옵션 매개변수 사용\n",
    "while(True) : # 무한반복문 1.\n",
    "    i = 2\n",
    "    while(True) : # 무한반복문 2.\n",
    "        if (num%i ==0 ) : # 1번 소수 2 나눠떨어지는지 확인\n",
    "            num = num / i # 참이면 > 나누기 진행\n",
    "            print(i, end=\"\") # 문제 의도 파악 > 원하는 출력 형식 존재\n",
    "            break # 처음 수로 잘 나눠떨어지면 2번 무한반복문 중단.\n",
    "        else : # 1번 소수로 나눠떨어지지 않는 경우\n",
    "            i = i + 1 # 1번 소수 i=2를 1씩 증가시킴 > 다시 2번 무한반복 시작 .. 따라서 2로 나눠보고..3으로 나눠보고...진행\n",
    "    if (num == 1 ) : # i를 계속 증가시키면서 나누다가 더 이상 나눠떨어지지 않는 1이되면 1번 무한반복문 중단.\n",
    "        break\n",
    "    else : # 한 스탭이 다 돌면 문제 의도에 따라 원하는 출력값 출력하고 다시 시작\n",
    "        print(\"*\", end=\"\")"
   ]
  },
  {
   "cell_type": "markdown",
   "id": "6d339aa3",
   "metadata": {},
   "source": [
    "# 88"
   ]
  },
  {
   "cell_type": "code",
   "execution_count": 13,
   "id": "42e03b0f",
   "metadata": {},
   "outputs": [
    {
     "name": "stdout",
     "output_type": "stream",
     "text": [
      "23\n"
     ]
    }
   ],
   "source": [
    "'''\n",
    "1번 풀이 틀림\n",
    "왜?\n",
    "n = 10일땐 문제없음\n",
    "\n",
    "하지만 1000 일 경우 원하는 값보다 크게 나옴\n",
    "266333 <> 233168\n",
    "\n",
    "왜?\n",
    "1번 풀이 출력값에서 공배수값들으 빼줘야함\n",
    "    ex) 15 30 45...\n",
    "현재 공배수값들이 중복되어 더해져서 원하는 값보다 크게 나옴.\n",
    "\n",
    "'''\n",
    "\n",
    "\n",
    "def test1(n) :\n",
    "    \n",
    "    n_3 = 3\n",
    "    n_5 = 5\n",
    "    num_3 = []\n",
    "    num_5 = []\n",
    "\n",
    "    while (n_3 < n) : # 10보다 작아야 하는 상황.\n",
    "        num_3.append(n_3)\n",
    "        n_3 += 3\n",
    "\n",
    "    while (n_5 < n) :\n",
    "        num_5.append(n_5)\n",
    "        n_5 += 5\n",
    "    \n",
    "    total_num = sum(num_3) + sum(num_5)\n",
    "    print(total_num)\n",
    "\n",
    "\n",
    "test1(10)"
   ]
  },
  {
   "cell_type": "code",
   "execution_count": 14,
   "id": "89298e4e",
   "metadata": {},
   "outputs": [
    {
     "name": "stdout",
     "output_type": "stream",
     "text": [
      "266333\n"
     ]
    }
   ],
   "source": [
    "test1(1000)"
   ]
  },
  {
   "cell_type": "code",
   "execution_count": 21,
   "id": "18fdb439",
   "metadata": {},
   "outputs": [
    {
     "name": "stdout",
     "output_type": "stream",
     "text": [
      "23\n",
      "23\n"
     ]
    }
   ],
   "source": [
    "# 2번 풀이\n",
    "\n",
    "def test2(n) :\n",
    "    \n",
    "    n_3 = 3\n",
    "    n_5 = 5\n",
    "    n_15 = n_3*n_5\n",
    "\n",
    "    num_3 = []\n",
    "    num_5 = []\n",
    "    num_15 = []\n",
    "    \n",
    "    while (n_3 < n) :\n",
    "        num_3.append(n_3)\n",
    "        n_3 += 3\n",
    "\n",
    "    while (n_5 < n) :\n",
    "        num_5.append(n_5)\n",
    "        n_5 += 5\n",
    "\n",
    "    total_num = sum(num_3) + sum(num_5)\n",
    "    print(total_num) # 1차 합\n",
    "\n",
    "    while ( n_15 < n) :\n",
    "        num_15.append(n_15)\n",
    "        n_15 += 15\n",
    "    \n",
    "    total_num = sum(num_3) + sum(num_5) - sum(num_15)\n",
    "    print(total_num) # 최종 합\n",
    "\n",
    "\n",
    "\n",
    "test2(10)"
   ]
  },
  {
   "cell_type": "code",
   "execution_count": 22,
   "id": "ddf849e7",
   "metadata": {},
   "outputs": [
    {
     "name": "stdout",
     "output_type": "stream",
     "text": [
      "266333\n",
      "233168\n"
     ]
    }
   ],
   "source": [
    "test2(1000)"
   ]
  },
  {
   "cell_type": "code",
   "execution_count": 23,
   "id": "3725336e",
   "metadata": {},
   "outputs": [
    {
     "name": "stdout",
     "output_type": "stream",
     "text": [
      "233168\n"
     ]
    }
   ],
   "source": [
    "# 3번 풀이\n",
    "\n",
    "total_sum = 0  # 총합을 저장할 변수를 초기화합니다.\n",
    "\n",
    "for num in range(1, 1000):  # 1부터 999까지의 수를 확인합니다.\n",
    "    if num % 3 == 0 or num % 5 == 0:  # 3 또는 5로 나누어 떨어지는 수인지 확인합니다.\n",
    "        total_sum += num  # 나누어 떨어지는 수를 총합에 더해줍니다.\n",
    "\n",
    "print(total_sum)  # 총합을 출력합니다."
   ]
  },
  {
   "cell_type": "markdown",
   "id": "163c5ffc",
   "metadata": {},
   "source": [
    "# 87"
   ]
  },
  {
   "cell_type": "markdown",
   "id": "b3a4491c",
   "metadata": {},
   "source": [
    "# 86"
   ]
  },
  {
   "cell_type": "markdown",
   "id": "ff6c85e9",
   "metadata": {},
   "source": [
    "# 85"
   ]
  },
  {
   "cell_type": "code",
   "execution_count": 38,
   "id": "b5e2555c",
   "metadata": {},
   "outputs": [
    {
     "name": "stdout",
     "output_type": "stream",
     "text": [
      "011111\n",
      "001111\n",
      "000111\n",
      "000011\n",
      "000001\n"
     ]
    }
   ],
   "source": [
    "# 1번 풀이\n",
    "num_0_count = 1 # 처음 0 개수\n",
    "num_1_count = 5 # 처음 1 개수\n",
    "\n",
    "while(num_1_count >= 1) : # num_1_count가 1보다 작아지면 종료\n",
    "    print(f\"{str(0)*num_0_count}{str(1)*num_1_count}\")\n",
    "\n",
    "    num_0_count += 1 # 1씩 증가\n",
    "    num_1_count -= 1 # 1씩 감소"
   ]
  },
  {
   "cell_type": "code",
   "execution_count": 40,
   "id": "be66f2e1",
   "metadata": {},
   "outputs": [
    {
     "name": "stdout",
     "output_type": "stream",
     "text": [
      "011111\n",
      "001111\n",
      "000111\n",
      "000011\n",
      "000001\n"
     ]
    }
   ],
   "source": [
    "# 2번 풀이\n",
    "\n",
    "for i in range(5) : # 1번 반복문 의미 : 출력 행 개수\n",
    "    for j in range(i+1) : # 시행마다 0 출력 개수 의미\n",
    "        print('0',end=\"\")\n",
    "    for j in range(5-i) : # 시행마다 1 출력 개수 의미 5 > 4 > 3 > 2 > 1 \n",
    "        print('1', end =\"\")\n",
    "    print() # 행 변경"
   ]
  },
  {
   "cell_type": "code",
   "execution_count": null,
   "id": "10fdae85",
   "metadata": {},
   "outputs": [],
   "source": []
  },
  {
   "cell_type": "markdown",
   "id": "e8e78a99",
   "metadata": {},
   "source": [
    "# 36"
   ]
  },
  {
   "cell_type": "code",
   "execution_count": 12,
   "id": "a968636d",
   "metadata": {},
   "outputs": [
    {
     "name": "stdout",
     "output_type": "stream",
     "text": [
      "['피자', '치킨']\n",
      "['햄버거', '피자', '치킨', '부닭찌개', '족발']\n",
      "['햄버거', '부닭찌개', '족발']\n"
     ]
    }
   ],
   "source": [
    "# 1번 풀이 슬라이싱 사용 풀이\n",
    "food_list = ['햄버거', '피자', '치킨', '부닭찌개', '족발']\n",
    "print(food_list[1:3]) # 리스트 슬라이싱 새로운 객체 반환\n",
    "print(food_list)\n",
    "\n",
    "del food_list[1:3]\n",
    "print(food_list)"
   ]
  },
  {
   "cell_type": "code",
   "execution_count": 13,
   "id": "944efe45",
   "metadata": {},
   "outputs": [
    {
     "name": "stdout",
     "output_type": "stream",
     "text": [
      "피자\n",
      "['햄버거', '치킨', '부닭찌개', '족발']\n",
      "치킨\n",
      "['햄버거', '부닭찌개', '족발']\n"
     ]
    }
   ],
   "source": [
    "# 2번 풀이 pop메서드 사용\n",
    "food_list = ['햄버거', '피자', '치킨', '부닭찌개', '족발']\n",
    "print(food_list.pop(1)) # POP 메서드는 원본객체를 수정하는 메서드/함수\n",
    "print(food_list)\n",
    "print(food_list.pop(1))\n",
    "print(food_list)"
   ]
  },
  {
   "cell_type": "code",
   "execution_count": 3,
   "id": "d23402d3",
   "metadata": {},
   "outputs": [
    {
     "name": "stdout",
     "output_type": "stream",
     "text": [
      "<class 'list'>\n",
      "<class 'list_iterator'>\n",
      "1\n"
     ]
    }
   ],
   "source": [
    "a = [1, 2, 3]\n",
    "\n",
    "print(type(a)) # list 출력\n",
    "a = iter(a)\n",
    "print(type(a)) # list_iterator 출력\n",
    "print(a.__next__()) # 첫 실행시 1 출력"
   ]
  },
  {
   "cell_type": "code",
   "execution_count": null,
   "id": "440afd7f",
   "metadata": {},
   "outputs": [],
   "source": []
  },
  {
   "cell_type": "code",
   "execution_count": null,
   "id": "12be8d17",
   "metadata": {},
   "outputs": [],
   "source": []
  }
 ],
 "metadata": {
  "kernelspec": {
   "display_name": "Python 3 (ipykernel)",
   "language": "python",
   "name": "python3"
  },
  "language_info": {
   "codemirror_mode": {
    "name": "ipython",
    "version": 3
   },
   "file_extension": ".py",
   "mimetype": "text/x-python",
   "name": "python",
   "nbconvert_exporter": "python",
   "pygments_lexer": "ipython3",
   "version": "3.8.10"
  }
 },
 "nbformat": 4,
 "nbformat_minor": 5
}
